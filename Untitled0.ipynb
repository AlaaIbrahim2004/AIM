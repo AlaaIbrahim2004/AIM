{
  "nbformat": 4,
  "nbformat_minor": 0,
  "metadata": {
    "colab": {
      "provenance": [],
      "authorship_tag": "ABX9TyPKvv2VO6c3GMYTsiFalaoK",
      "include_colab_link": true
    },
    "kernelspec": {
      "name": "python3",
      "display_name": "Python 3"
    },
    "language_info": {
      "name": "python"
    }
  },
  "cells": [
    {
      "cell_type": "markdown",
      "metadata": {
        "id": "view-in-github",
        "colab_type": "text"
      },
      "source": [
        "<a href=\"https://colab.research.google.com/github/AlaaIbrahim2004/AIM/blob/main/Untitled0.ipynb\" target=\"_parent\"><img src=\"https://colab.research.google.com/assets/colab-badge.svg\" alt=\"Open In Colab\"/></a>"
      ]
    },
    {
      "cell_type": "code",
      "execution_count": null,
      "metadata": {
        "colab": {
          "base_uri": "https://localhost:8080/"
        },
        "id": "CM9bnsk00VS6",
        "outputId": "db9b0b58-9dea-44d5-c765-970926943cf6"
      },
      "outputs": [
        {
          "output_type": "stream",
          "name": "stdout",
          "text": [
            "Collecting python-docx\n",
            "  Downloading python_docx-1.2.0-py3-none-any.whl.metadata (2.0 kB)\n",
            "Requirement already satisfied: lxml>=3.1.0 in /usr/local/lib/python3.12/dist-packages (from python-docx) (5.4.0)\n",
            "Requirement already satisfied: typing_extensions>=4.9.0 in /usr/local/lib/python3.12/dist-packages (from python-docx) (4.15.0)\n",
            "Downloading python_docx-1.2.0-py3-none-any.whl (252 kB)\n",
            "\u001b[?25l   \u001b[90m━━━━━━━━━━━━━━━━━━━━━━━━━━━━━━━━━━━━━━━━\u001b[0m \u001b[32m0.0/253.0 kB\u001b[0m \u001b[31m?\u001b[0m eta \u001b[36m-:--:--\u001b[0m\r\u001b[2K   \u001b[90m━━━━━━━━━━━━━━━━━━━━━━━━━━━━━━━━━━━━━━━━\u001b[0m \u001b[32m253.0/253.0 kB\u001b[0m \u001b[31m12.5 MB/s\u001b[0m eta \u001b[36m0:00:00\u001b[0m\n",
            "\u001b[?25hInstalling collected packages: python-docx\n",
            "Successfully installed python-docx-1.2.0\n",
            "تم إنشاء الملف بنجاح! تحمّلي ملف 'SportsIN_Daily_Schedule.docx' من المجلد.\n"
          ]
        }
      ],
      "source": [
        "!pip install python-docx\n",
        "from docx import Document\n",
        "from docx.oxml.ns import qn\n",
        "from docx.shared import Pt\n",
        "from datetime import datetime, timedelta\n",
        "\n",
        "# إنشاء مستند Word جديد\n",
        "doc = Document()\n",
        "doc.styles['Normal'].font.name = 'Arial'\n",
        "doc.styles['Normal']._element.rPr.rFonts.set(qn('w:eastAsia'), 'Arial')\n",
        "\n",
        "# إضافة عنوان\n",
        "title = doc.add_heading('خطة يومية مقترحة لتحليل الفيديو في SportsIN', 0)\n",
        "title.alignment = 1  # مركز العنوان\n",
        "\n",
        "# إضافة تعليق توضيحي مع التاريخ الحالي\n",
        "current_time = datetime.now()\n",
        "doc.add_paragraph(\n",
        "    f'هذه الخطة تحدد الوقت المقدّر لكل خطوة في تعلم وتنفيذ تحليل الفيديو (دقة التسديد، السرعة، تصنيف المستوى) '\n",
        "    f'بمعدل 2 ساعة يوميًا. البدء من {current_time.strftime(\"%d %B %Y, %I:%M %p %Z\")}.'\n",
        ")\n",
        "\n",
        "# إضافة الجدول\n",
        "table = doc.add_table(rows=1, cols=4)\n",
        "table.autofit = True\n",
        "table.style = 'Table Grid'\n",
        "\n",
        "# تعريف الرؤوس\n",
        "hdr_cells = table.rows[0].cells\n",
        "hdr_cells[0].text = 'التواريخ'\n",
        "hdr_cells[1].text = 'الخطوة'\n",
        "hdr_cells[2].text = 'المذاكرة والتطبيق (ساعات)'\n",
        "hdr_cells[3].text = 'ملاحظات'\n",
        "\n",
        "# بيانات الخطة\n",
        "plan = [\n",
        "    (\"27-28 أغسطس\", \"الخطوة 1 (0-2 ساعة) + 4 (1-2 ساعة)\", \"1-4 ساعات\", \"Python وColab\"),\n",
        "    (\"29 أغسطس - 1 سبتمبر\", \"الخطوة 2\", \"4-6 ساعات\", \"OpenCV\"),\n",
        "    (\"2-4 سبتمبر\", \"الخطوة 3 (2-3 ساعات) + 5 (5-7 ساعات)\", \"7-10 ساعات\", \"Learning وMediaPipe\"),\n",
        "    (\"5-7 سبتمبر\", \"الخطوة 6\", \"3-4 ساعات\", \"Pandas/Numpy\"),\n",
        "    (\"8-11 سبتمبر\", \"الخطوة 7\", \"3-5 ساعات\", \"Tagging\"),\n",
        "    (\"12-16 سبتمبر\", \"الخطوة 8\", \"5-7 ساعات\", \"Fine-tuning\"),\n",
        "    (\"17-24 سبتمبر\", \"الخطوة 10\", \"8-12 ساعة\", \"تجميع\"),\n",
        "    (\"25-28 سبتمبر\", \"الخطوة 11\", \"4-6 ساعات\", \"Deep Learning\"),\n",
        "    (\"29 سبتمبر - 3 أكتوبر\", \"الخطوة 12\", \"5-7 ساعات\", \"YOLO\"),\n",
        "    (\"4-7 أكتوبر\", \"الخطوة 13\", \"3-5 ساعات\", \"Data Augmentation\")\n",
        "]\n",
        "\n",
        "# إضافة البيانات للجدول\n",
        "for date_range, step, hours, notes in plan:\n",
        "    row_cells = table.add_row().cells\n",
        "    row_cells[0].text = date_range\n",
        "    row_cells[1].text = step\n",
        "    row_cells[2].text = hours\n",
        "    row_cells[3].text = notes\n",
        "\n",
        "# إضافة ملاحظة نهائية\n",
        "doc.add_paragraph(\n",
        "    'ملاحظة: لو تجاهلتي الخطوة 9 (واجهة) و14 (VR)، الوقت هيخفض لـ 24-30 يوم (حتى 26 سبتمبر - 2 أكتوبر 2025).'\n",
        ")\n",
        "\n",
        "# حفظ الملف\n",
        "doc.save('SportsIN_Daily_Schedule.docx')\n",
        "\n",
        "print(\"تم إنشاء الملف بنجاح! تحمّلي ملف 'SportsIN_Daily_Schedule.docx' من المجلد.\")"
      ]
    },
    {
      "cell_type": "code",
      "source": [],
      "metadata": {
        "id": "PQdAr77Y3Bgy"
      },
      "execution_count": null,
      "outputs": []
    },
    {
      "cell_type": "code",
      "source": [],
      "metadata": {
        "id": "sW7yfRYY0xbq"
      },
      "execution_count": null,
      "outputs": []
    }
  ]
}